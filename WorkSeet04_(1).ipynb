{
  "nbformat": 4,
  "nbformat_minor": 0,
  "metadata": {
    "colab": {
      "provenance": [],
      "gpuType": "T4",
      "include_colab_link": true
    },
    "kernelspec": {
      "name": "python3",
      "display_name": "Python 3"
    },
    "language_info": {
      "name": "python"
    },
    "accelerator": "GPU"
  },
  "cells": [
    {
      "cell_type": "markdown",
      "metadata": {
        "id": "view-in-github",
        "colab_type": "text"
      },
      "source": [
        "<a href=\"https://colab.research.google.com/github/SudeepBasnet1/AI-and-ML/blob/main/WorkSeet04_(1).ipynb\" target=\"_parent\"><img src=\"https://colab.research.google.com/assets/colab-badge.svg\" alt=\"Open In Colab\"/></a>"
      ]
    },
    {
      "cell_type": "code",
      "source": [
        "import os\n",
        "import numpy as np\n",
        "import tensorflow as tf\n",
        "from tensorflow import keras\n",
        "from PIL import Image\n",
        "import matplotlib.pyplot as plt\n",
        "import zipfile\n"
      ],
      "metadata": {
        "id": "ii2x9FZrfecU"
      },
      "execution_count": 1,
      "outputs": []
    },
    {
      "cell_type": "code",
      "source": [
        "from google.colab import drive\n",
        "drive.mount('/content/drive')"
      ],
      "metadata": {
        "colab": {
          "base_uri": "https://localhost:8080/"
        },
        "id": "azROCNBymBTV",
        "outputId": "cfb5358e-4d23-42b9-b9c8-495b9689ee3c"
      },
      "execution_count": 2,
      "outputs": [
        {
          "output_type": "stream",
          "name": "stdout",
          "text": [
            "Mounted at /content/drive\n"
          ]
        }
      ]
    },
    {
      "cell_type": "markdown",
      "source": [
        "Task 1: Data Preparation\n",
        "Key Considerations\n",
        "\n",
        "Use PIL (Python Imaging Library) for image processing\n",
        "Normalize images to 0-1 range\n",
        "Resize to consistent 28x28 pixels\n",
        "Extract labels from directory structure"
      ],
      "metadata": {
        "id": "3tioGtJ2oRCD"
      }
    },
    {
      "cell_type": "code",
      "source": [
        "\n",
        "\n",
        "# Unzip the dataset if needed\n",
        "zip_path = '/content/drive/MyDrive/AI-ML/workshop-04/Copy of devnagari digit.zip'\n",
        "extract_path = '/content/drive/MyDrive/AI-ML/workshop-04/'\n",
        "\n",
        "# Unzip the file if not already extracted\n",
        "try:\n",
        "    with zipfile.ZipFile(zip_path, 'r') as zip_ref:\n",
        "        zip_ref.extractall(extract_path)\n",
        "except FileExistsError:\n",
        "    print(\"Dataset already extracted.\")\n",
        "\n",
        "# Set paths\n",
        "train_data_dir = '/content/drive/MyDrive/AI-ML/workshop-04/DevanagariHandwrittenDigitDataset/Train'\n",
        "test_data_dir = '/content/drive/MyDrive/AI-ML/workshop-04/DevanagariHandwrittenDigitDataset/Test'\n",
        "\n",
        "# Data Preparation Function\n",
        "def load_data(data_dir):\n",
        "    \"\"\"\n",
        "    Load Devnagari digit images and labels from the specified directory\n",
        "\n",
        "    Args:\n",
        "    data_dir (str): Path to the directory containing digit images\n",
        "\n",
        "    Returns:\n",
        "    tuple: (images, labels)\n",
        "    \"\"\"\n",
        "    images = []\n",
        "    labels = []\n",
        "\n",
        "    # Iterate through subdirectories (each representing a digit)\n",
        "    for label, digit_dir in enumerate(sorted(os.listdir(data_dir))):\n",
        "        digit_path = os.path.join(data_dir, digit_dir)\n",
        "\n",
        "        # Ensure it's a directory\n",
        "        if os.path.isdir(digit_path):\n",
        "            for img_file in os.listdir(digit_path):\n",
        "                img_path = os.path.join(digit_path, img_file)\n",
        "\n",
        "                # Open and process image\n",
        "                try:\n",
        "                    img = Image.open(img_path).convert('L')  # Convert to grayscale\n",
        "                    img = img.resize((28, 28))  # Resize to 28x28\n",
        "                    img_array = np.array(img) / 255.0  # Normalize to 0-1\n",
        "\n",
        "                    images.append(img_array)\n",
        "                    labels.append(label)\n",
        "                except Exception as e:\n",
        "                    print(f\"Error processing {img_path}: {e}\")\n",
        "\n",
        "    return np.array(images), np.array(labels)\n"
      ],
      "metadata": {
        "id": "nfrsEynqcT2D"
      },
      "execution_count": 4,
      "outputs": []
    },
    {
      "cell_type": "code",
      "source": [
        "\n",
        "# Load training and testing data\n",
        "print(\"Loading training data...\")\n",
        "X_train, y_train = load_data(train_data_dir)\n",
        "print(f\"Training data shape: {X_train.shape}\")\n",
        "\n",
        "print(\"Loading testing data...\")\n",
        "X_test, y_test = load_data(test_data_dir)\n",
        "print(f\"Testing data shape: {X_test.shape}\")\n",
        "\n",
        "# Reshape images for FCN (flatten)\n",
        "X_train = X_train.reshape(X_train.shape[0], 28*28)\n",
        "X_test = X_test.reshape(X_test.shape[0], 28*28)\n",
        "\n",
        "# Convert labels to one-hot encoding\n",
        "y_train = keras.utils.to_categorical(y_train, 10)\n",
        "y_test = keras.utils.to_categorical(y_test, 10)"
      ],
      "metadata": {
        "colab": {
          "base_uri": "https://localhost:8080/"
        },
        "id": "beTkxenIjQTi",
        "outputId": "e71002a0-e5dd-4af6-ba18-7c3ab6b04f75"
      },
      "execution_count": 5,
      "outputs": [
        {
          "output_type": "stream",
          "name": "stdout",
          "text": [
            "Loading training data...\n",
            "Training data shape: (17000, 28, 28)\n",
            "Loading testing data...\n",
            "Testing data shape: (3000, 28, 28)\n"
          ]
        }
      ]
    },
    {
      "cell_type": "markdown",
      "source": [
        "## Task 2: Build FCN Model\n",
        "\n",
        "**3 Hidden Layers**\n",
        "\n",
        "1. 1st Layer: 64 neurons\n",
        "2. 2nd Layer: 128 neurons\n",
        "3. 3rd Layer: 256 neurons\n",
        "\n",
        "\n",
        "* Sigmoid activation for hidden layers\n",
        "* Softmax activation for output layer"
      ],
      "metadata": {
        "id": "o_Bu2P-OohFb"
      }
    },
    {
      "cell_type": "code",
      "source": [
        "# Build the FCN Model\n",
        "model = keras.Sequential([\n",
        "    # Input layer\n",
        "    keras.layers.InputLayer(input_shape=(28*28,)),\n",
        "\n",
        "    # First hidden layer\n",
        "    keras.layers.Dense(64, activation='sigmoid'),\n",
        "\n",
        "    # Second hidden layer\n",
        "    keras.layers.Dense(128, activation='sigmoid'),\n",
        "\n",
        "    # Third hidden layer\n",
        "    keras.layers.Dense(256, activation='sigmoid'),\n",
        "\n",
        "    # Output layer\n",
        "    keras.layers.Dense(10, activation='softmax')\n",
        "])"
      ],
      "metadata": {
        "id": "HfZhpN-8jhEz",
        "colab": {
          "base_uri": "https://localhost:8080/"
        },
        "outputId": "f8eb605f-35d4-4ea6-bd80-84572480bdab"
      },
      "execution_count": 6,
      "outputs": [
        {
          "output_type": "stream",
          "name": "stderr",
          "text": [
            "/usr/local/lib/python3.11/dist-packages/keras/src/layers/core/input_layer.py:27: UserWarning: Argument `input_shape` is deprecated. Use `shape` instead.\n",
            "  warnings.warn(\n"
          ]
        }
      ]
    },
    {
      "cell_type": "markdown",
      "source": [
        "summery of the model"
      ],
      "metadata": {
        "id": "9kmokxG-jww8"
      }
    },
    {
      "cell_type": "code",
      "source": [
        "model.summary()"
      ],
      "metadata": {
        "colab": {
          "base_uri": "https://localhost:8080/",
          "height": 272
        },
        "id": "nYnlYqTGkXAC",
        "outputId": "8010c6ec-12d2-439e-814f-0534ac8ebb91"
      },
      "execution_count": 7,
      "outputs": [
        {
          "output_type": "display_data",
          "data": {
            "text/plain": [
              "\u001b[1mModel: \"sequential\"\u001b[0m\n"
            ],
            "text/html": [
              "<pre style=\"white-space:pre;overflow-x:auto;line-height:normal;font-family:Menlo,'DejaVu Sans Mono',consolas,'Courier New',monospace\"><span style=\"font-weight: bold\">Model: \"sequential\"</span>\n",
              "</pre>\n"
            ]
          },
          "metadata": {}
        },
        {
          "output_type": "display_data",
          "data": {
            "text/plain": [
              "┏━━━━━━━━━━━━━━━━━━━━━━━━━━━━━━━━━━━━━━┳━━━━━━━━━━━━━━━━━━━━━━━━━━━━━┳━━━━━━━━━━━━━━━━━┓\n",
              "┃\u001b[1m \u001b[0m\u001b[1mLayer (type)                        \u001b[0m\u001b[1m \u001b[0m┃\u001b[1m \u001b[0m\u001b[1mOutput Shape               \u001b[0m\u001b[1m \u001b[0m┃\u001b[1m \u001b[0m\u001b[1m        Param #\u001b[0m\u001b[1m \u001b[0m┃\n",
              "┡━━━━━━━━━━━━━━━━━━━━━━━━━━━━━━━━━━━━━━╇━━━━━━━━━━━━━━━━━━━━━━━━━━━━━╇━━━━━━━━━━━━━━━━━┩\n",
              "│ dense (\u001b[38;5;33mDense\u001b[0m)                        │ (\u001b[38;5;45mNone\u001b[0m, \u001b[38;5;34m64\u001b[0m)                  │          \u001b[38;5;34m50,240\u001b[0m │\n",
              "├──────────────────────────────────────┼─────────────────────────────┼─────────────────┤\n",
              "│ dense_1 (\u001b[38;5;33mDense\u001b[0m)                      │ (\u001b[38;5;45mNone\u001b[0m, \u001b[38;5;34m128\u001b[0m)                 │           \u001b[38;5;34m8,320\u001b[0m │\n",
              "├──────────────────────────────────────┼─────────────────────────────┼─────────────────┤\n",
              "│ dense_2 (\u001b[38;5;33mDense\u001b[0m)                      │ (\u001b[38;5;45mNone\u001b[0m, \u001b[38;5;34m256\u001b[0m)                 │          \u001b[38;5;34m33,024\u001b[0m │\n",
              "├──────────────────────────────────────┼─────────────────────────────┼─────────────────┤\n",
              "│ dense_3 (\u001b[38;5;33mDense\u001b[0m)                      │ (\u001b[38;5;45mNone\u001b[0m, \u001b[38;5;34m10\u001b[0m)                  │           \u001b[38;5;34m2,570\u001b[0m │\n",
              "└──────────────────────────────────────┴─────────────────────────────┴─────────────────┘\n"
            ],
            "text/html": [
              "<pre style=\"white-space:pre;overflow-x:auto;line-height:normal;font-family:Menlo,'DejaVu Sans Mono',consolas,'Courier New',monospace\">┏━━━━━━━━━━━━━━━━━━━━━━━━━━━━━━━━━━━━━━┳━━━━━━━━━━━━━━━━━━━━━━━━━━━━━┳━━━━━━━━━━━━━━━━━┓\n",
              "┃<span style=\"font-weight: bold\"> Layer (type)                         </span>┃<span style=\"font-weight: bold\"> Output Shape                </span>┃<span style=\"font-weight: bold\">         Param # </span>┃\n",
              "┡━━━━━━━━━━━━━━━━━━━━━━━━━━━━━━━━━━━━━━╇━━━━━━━━━━━━━━━━━━━━━━━━━━━━━╇━━━━━━━━━━━━━━━━━┩\n",
              "│ dense (<span style=\"color: #0087ff; text-decoration-color: #0087ff\">Dense</span>)                        │ (<span style=\"color: #00d7ff; text-decoration-color: #00d7ff\">None</span>, <span style=\"color: #00af00; text-decoration-color: #00af00\">64</span>)                  │          <span style=\"color: #00af00; text-decoration-color: #00af00\">50,240</span> │\n",
              "├──────────────────────────────────────┼─────────────────────────────┼─────────────────┤\n",
              "│ dense_1 (<span style=\"color: #0087ff; text-decoration-color: #0087ff\">Dense</span>)                      │ (<span style=\"color: #00d7ff; text-decoration-color: #00d7ff\">None</span>, <span style=\"color: #00af00; text-decoration-color: #00af00\">128</span>)                 │           <span style=\"color: #00af00; text-decoration-color: #00af00\">8,320</span> │\n",
              "├──────────────────────────────────────┼─────────────────────────────┼─────────────────┤\n",
              "│ dense_2 (<span style=\"color: #0087ff; text-decoration-color: #0087ff\">Dense</span>)                      │ (<span style=\"color: #00d7ff; text-decoration-color: #00d7ff\">None</span>, <span style=\"color: #00af00; text-decoration-color: #00af00\">256</span>)                 │          <span style=\"color: #00af00; text-decoration-color: #00af00\">33,024</span> │\n",
              "├──────────────────────────────────────┼─────────────────────────────┼─────────────────┤\n",
              "│ dense_3 (<span style=\"color: #0087ff; text-decoration-color: #0087ff\">Dense</span>)                      │ (<span style=\"color: #00d7ff; text-decoration-color: #00d7ff\">None</span>, <span style=\"color: #00af00; text-decoration-color: #00af00\">10</span>)                  │           <span style=\"color: #00af00; text-decoration-color: #00af00\">2,570</span> │\n",
              "└──────────────────────────────────────┴─────────────────────────────┴─────────────────┘\n",
              "</pre>\n"
            ]
          },
          "metadata": {}
        },
        {
          "output_type": "display_data",
          "data": {
            "text/plain": [
              "\u001b[1m Total params: \u001b[0m\u001b[38;5;34m94,154\u001b[0m (367.79 KB)\n"
            ],
            "text/html": [
              "<pre style=\"white-space:pre;overflow-x:auto;line-height:normal;font-family:Menlo,'DejaVu Sans Mono',consolas,'Courier New',monospace\"><span style=\"font-weight: bold\"> Total params: </span><span style=\"color: #00af00; text-decoration-color: #00af00\">94,154</span> (367.79 KB)\n",
              "</pre>\n"
            ]
          },
          "metadata": {}
        },
        {
          "output_type": "display_data",
          "data": {
            "text/plain": [
              "\u001b[1m Trainable params: \u001b[0m\u001b[38;5;34m94,154\u001b[0m (367.79 KB)\n"
            ],
            "text/html": [
              "<pre style=\"white-space:pre;overflow-x:auto;line-height:normal;font-family:Menlo,'DejaVu Sans Mono',consolas,'Courier New',monospace\"><span style=\"font-weight: bold\"> Trainable params: </span><span style=\"color: #00af00; text-decoration-color: #00af00\">94,154</span> (367.79 KB)\n",
              "</pre>\n"
            ]
          },
          "metadata": {}
        },
        {
          "output_type": "display_data",
          "data": {
            "text/plain": [
              "\u001b[1m Non-trainable params: \u001b[0m\u001b[38;5;34m0\u001b[0m (0.00 B)\n"
            ],
            "text/html": [
              "<pre style=\"white-space:pre;overflow-x:auto;line-height:normal;font-family:Menlo,'DejaVu Sans Mono',consolas,'Courier New',monospace\"><span style=\"font-weight: bold\"> Non-trainable params: </span><span style=\"color: #00af00; text-decoration-color: #00af00\">0</span> (0.00 B)\n",
              "</pre>\n"
            ]
          },
          "metadata": {}
        }
      ]
    },
    {
      "cell_type": "markdown",
      "source": [
        "## Task 3: Model Compilation\n",
        "Configuration\n",
        "\n",
        "Optimizer: Adam\n",
        "Loss Function: Categorical Crossentropy\n",
        "Metric: Accuracy"
      ],
      "metadata": {
        "id": "rHkz3tvIpFky"
      }
    },
    {
      "cell_type": "code",
      "source": [
        "# Compile the Model\n",
        "model.compile(\n",
        "    optimizer='adam',\n",
        "    loss='categorical_crossentropy',\n",
        "    metrics=['accuracy']\n",
        ")"
      ],
      "metadata": {
        "id": "qnq_h4p5jj2a"
      },
      "execution_count": 8,
      "outputs": []
    },
    {
      "cell_type": "markdown",
      "source": [
        "## Task 4: Model Training\n",
        "Training Parameters\n",
        "\n",
        "Batch Size: 128\n",
        "Epochs: 20\n",
        "Validation Split: 0.2\n",
        "\n",
        "Callbacks for Optimization"
      ],
      "metadata": {
        "id": "A3Q4Xk7gpLxy"
      }
    },
    {
      "cell_type": "code",
      "source": [
        "# Prepare Callbacks\n",
        "checkpoint_callback = keras.callbacks.ModelCheckpoint(\n",
        "    'best_model.h5',\n",
        "    save_best_only=True,\n",
        "    monitor='val_accuracy'\n",
        ")\n",
        "\n",
        "early_stopping_callback = keras.callbacks.EarlyStopping(\n",
        "    monitor='val_loss',\n",
        "    patience=5,\n",
        "    restore_best_weights=True\n",
        ")\n"
      ],
      "metadata": {
        "id": "0mmo6797jqWz"
      },
      "execution_count": 9,
      "outputs": []
    },
    {
      "cell_type": "markdown",
      "source": [
        "### Train the Model"
      ],
      "metadata": {
        "id": "fsvGb6YXpfiC"
      }
    },
    {
      "cell_type": "code",
      "source": [
        "# Train the Model\n",
        "history = model.fit(\n",
        "    X_train, y_train,\n",
        "    validation_split=0.2,\n",
        "    batch_size=128,\n",
        "    epochs=20,\n",
        "    callbacks=[checkpoint_callback, early_stopping_callback]\n",
        ")"
      ],
      "metadata": {
        "colab": {
          "base_uri": "https://localhost:8080/"
        },
        "id": "MFs369-4jtX6",
        "outputId": "6025502a-89d3-4195-d787-f68bf3b9ce40"
      },
      "execution_count": 10,
      "outputs": [
        {
          "output_type": "stream",
          "name": "stdout",
          "text": [
            "Epoch 1/20\n",
            "\u001b[1m107/107\u001b[0m \u001b[32m━━━━━━━━━━━━━━━━━━━━\u001b[0m\u001b[37m\u001b[0m \u001b[1m0s\u001b[0m 10ms/step - accuracy: 0.2664 - loss: 1.9987"
          ]
        },
        {
          "output_type": "stream",
          "name": "stderr",
          "text": [
            "WARNING:absl:You are saving your model as an HDF5 file via `model.save()` or `keras.saving.save_model(model)`. This file format is considered legacy. We recommend using instead the native Keras format, e.g. `model.save('my_model.keras')` or `keras.saving.save_model(model, 'my_model.keras')`. \n"
          ]
        },
        {
          "output_type": "stream",
          "name": "stdout",
          "text": [
            "\b\b\b\b\b\b\b\b\b\b\b\b\b\b\b\b\b\b\b\b\b\b\b\b\b\b\b\b\b\b\b\b\b\b\b\b\b\b\b\b\b\b\b\b\b\b\b\b\b\b\b\b\b\b\b\b\b\b\b\b\b\b\b\b\b\b\b\b\b\b\b\b\b\b\b\r\u001b[1m107/107\u001b[0m \u001b[32m━━━━━━━━━━━━━━━━━━━━\u001b[0m\u001b[37m\u001b[0m \u001b[1m5s\u001b[0m 20ms/step - accuracy: 0.2683 - loss: 1.9955 - val_accuracy: 0.0000e+00 - val_loss: 6.9081\n",
            "Epoch 2/20\n",
            "\u001b[1m107/107\u001b[0m \u001b[32m━━━━━━━━━━━━━━━━━━━━\u001b[0m\u001b[37m\u001b[0m \u001b[1m0s\u001b[0m 3ms/step - accuracy: 0.8234 - loss: 0.6478 - val_accuracy: 0.0000e+00 - val_loss: 7.9212\n",
            "Epoch 3/20\n",
            "\u001b[1m107/107\u001b[0m \u001b[32m━━━━━━━━━━━━━━━━━━━━\u001b[0m\u001b[37m\u001b[0m \u001b[1m0s\u001b[0m 3ms/step - accuracy: 0.9209 - loss: 0.2897 - val_accuracy: 0.0000e+00 - val_loss: 8.4227\n",
            "Epoch 4/20\n",
            "\u001b[1m107/107\u001b[0m \u001b[32m━━━━━━━━━━━━━━━━━━━━\u001b[0m\u001b[37m\u001b[0m \u001b[1m1s\u001b[0m 6ms/step - accuracy: 0.9450 - loss: 0.1958 - val_accuracy: 0.0000e+00 - val_loss: 8.9086\n",
            "Epoch 5/20\n",
            "\u001b[1m107/107\u001b[0m \u001b[32m━━━━━━━━━━━━━━━━━━━━\u001b[0m\u001b[37m\u001b[0m \u001b[1m0s\u001b[0m 4ms/step - accuracy: 0.9582 - loss: 0.1519 - val_accuracy: 0.0000e+00 - val_loss: 9.2215\n",
            "Epoch 6/20\n",
            "\u001b[1m107/107\u001b[0m \u001b[32m━━━━━━━━━━━━━━━━━━━━\u001b[0m\u001b[37m\u001b[0m \u001b[1m1s\u001b[0m 4ms/step - accuracy: 0.9639 - loss: 0.1261 - val_accuracy: 0.0000e+00 - val_loss: 9.6129\n"
          ]
        }
      ]
    },
    {
      "cell_type": "markdown",
      "source": [
        "## Task 5: Model Evaluation\n",
        "\n",
        "**Use model.evaluate()** on test set\n",
        "Print test accuracy\n",
        "Analyze performance metrics"
      ],
      "metadata": {
        "id": "csZi07aCpmvy"
      }
    },
    {
      "cell_type": "code",
      "source": [
        "# Evaluate the Model\n",
        "test_loss, test_accuracy = model.evaluate(X_test, y_test)\n",
        "print(f\"Test Accuracy: {test_accuracy * 100:.2f}%\")"
      ],
      "metadata": {
        "colab": {
          "base_uri": "https://localhost:8080/"
        },
        "id": "nngolSZJlAdL",
        "outputId": "1770fec9-2aa4-4866-fca8-601d7d419298"
      },
      "execution_count": 11,
      "outputs": [
        {
          "output_type": "stream",
          "name": "stdout",
          "text": [
            "\u001b[1m94/94\u001b[0m \u001b[32m━━━━━━━━━━━━━━━━━━━━\u001b[0m\u001b[37m\u001b[0m \u001b[1m1s\u001b[0m 11ms/step - accuracy: 0.8396 - loss: 0.8102\n",
            "Test Accuracy: 62.57%\n"
          ]
        }
      ]
    },
    {
      "cell_type": "code",
      "source": [
        "# Visualize Training History\n",
        "plt.figure(figsize=(12, 4))\n",
        "\n",
        "# Accuracy plot\n",
        "plt.subplot(1, 2, 1)\n",
        "plt.plot(history.history['accuracy'])\n",
        "plt.plot(history.history['val_accuracy'])\n",
        "plt.title('Model Accuracy')\n",
        "plt.ylabel('Accuracy')\n",
        "plt.xlabel('Epoch')\n",
        "plt.legend(['Train', 'Validation'], loc='lower right')\n",
        "\n",
        "# Loss plot\n",
        "plt.subplot(1, 2, 2)\n",
        "plt.plot(history.history['loss'])\n",
        "plt.plot(history.history['val_loss'])\n",
        "plt.title('Model Loss')\n",
        "plt.ylabel('Loss')\n",
        "plt.xlabel('Epoch')\n",
        "plt.legend(['Train', 'Validation'], loc='upper right')\n",
        "\n",
        "plt.tight_layout()\n",
        "plt.show()\n",
        "plt.savefig('/content/drive/MyDrive/AI-ML/workshop-04/training_history.png')\n",
        "plt.close()\n"
      ],
      "metadata": {
        "colab": {
          "base_uri": "https://localhost:8080/",
          "height": 407
        },
        "id": "92k3w0b5lHSy",
        "outputId": "1e6daf8b-49fc-4985-b2c1-8737498fc95c"
      },
      "execution_count": 12,
      "outputs": [
        {
          "output_type": "display_data",
          "data": {
            "text/plain": [
              "<Figure size 1200x400 with 2 Axes>"
            ],
            "image/png": "[encoded data removed]"
          },
          "metadata": {}
        }
      ]
    },
    {
      "cell_type": "markdown",
      "source": [
        "## Task 6: Save and Load Model\n",
        "\n",
        "* we can use model.save() to save model\n",
        "* but her Model already saved via ModelCheckpoint callback"
      ],
      "metadata": {
        "id": "nSgg79FLqGvc"
      }
    },
    {
      "cell_type": "code",
      "source": [
        "#Save model\n",
        "model.save('/content/drive/MyDrive/AI-ML/workshop-04/final_model.h5')\n"
      ],
      "metadata": {
        "id": "09KZncwAqJmj",
        "colab": {
          "base_uri": "https://localhost:8080/"
        },
        "outputId": "ae00afd0-a15a-4086-8bc3-778211e16a01"
      },
      "execution_count": 23,
      "outputs": [
        {
          "output_type": "stream",
          "name": "stderr",
          "text": [
            "WARNING:absl:You are saving your model as an HDF5 file via `model.save()` or `keras.saving.save_model(model)`. This file format is considered legacy. We recommend using instead the native Keras format, e.g. `model.save('my_model.keras')` or `keras.saving.save_model(model, 'my_model.keras')`. \n"
          ]
        }
      ]
    },
    {
      "cell_type": "markdown",
      "source": [
        "## Task 7: Predictions"
      ],
      "metadata": {
        "id": "7ALyx8OFpwvh"
      }
    },
    {
      "cell_type": "code",
      "source": [
        "\n",
        "# Load the Best Model\n",
        "loaded_model = keras.models.load_model('/content/drive/MyDrive/AI-ML/workshop-04/final_model.h5') # Model already saved via ModelCheckpoint callback\n",
        "\n",
        "# Make Predictions\n",
        "predictions = loaded_model.predict(X_test)\n",
        "predicted_labels = np.argmax(predictions, axis=1)\n",
        "true_labels = np.argmax(y_test, axis=1)\n",
        "\n",
        "# Visualize Some Predictions\n",
        "plt.figure(figsize=(15, 5))\n",
        "for i in range(10):\n",
        "    plt.subplot(2, 5, i+1)\n",
        "    plt.imshow(X_test[i].reshape(28, 28), cmap='gray')\n",
        "    plt.title(f'True: {np.argmax(y_test[i])}, Pred: {predicted_labels[i]}')\n",
        "    plt.axis('off')\n",
        "plt.tight_layout()\n",
        "plt.show()\n",
        "plt.savefig('/content/drive/MyDrive/AI-ML/workshop-04/predictions.png')\n",
        "plt.close()\n",
        "\n",
        "print(\"Training and evaluation complete!\")"
      ],
      "metadata": {
        "colab": {
          "base_uri": "https://localhost:8080/",
          "height": 559
        },
        "id": "ChRudZ9_jIoz",
        "outputId": "cc97869d-9856-4834-8511-75e49b50e42f"
      },
      "execution_count": 25,
      "outputs": [
        {
          "output_type": "stream",
          "name": "stderr",
          "text": [
            "WARNING:absl:Compiled the loaded model, but the compiled metrics have yet to be built. `model.compile_metrics` will be empty until you train or evaluate the model.\n"
          ]
        },
        {
          "output_type": "stream",
          "name": "stdout",
          "text": [
            "\u001b[1m94/94\u001b[0m \u001b[32m━━━━━━━━━━━━━━━━━━━━\u001b[0m\u001b[37m\u001b[0m \u001b[1m1s\u001b[0m 4ms/step\n"
          ]
        },
        {
          "output_type": "display_data",
          "data": {
            "text/plain": [
              "<Figure size 1500x500 with 10 Axes>"
            ],
            "image/png": "[encoded data removed]"
          },
          "metadata": {}
        },
        {
          "output_type": "stream",
          "name": "stdout",
          "text": [
            "Training and evaluation complete!\n"
          ]
        }
      ]
    },
    {
      "cell_type": "code",
      "source": [
        "from sklearn.metrics import confusion_matrix, classification_report\n",
        "cm = confusion_matrix(true_labels, predicted_labels)\n",
        "print(\"\\nConfusion Matrix:\")\n",
        "print(cm)"
      ],
      "metadata": {
        "colab": {
          "base_uri": "https://localhost:8080/"
        },
        "id": "40L29HH1uIVa",
        "outputId": "285a253a-1024-4e14-b03b-33607f717db1"
      },
      "execution_count": 26,
      "outputs": [
        {
          "output_type": "stream",
          "name": "stdout",
          "text": [
            "\n",
            "Confusion Matrix:\n",
            "[[297   2   0   0   0   0   0   1   0   0]\n",
            " [  3 292   0   2   0   1   2   0   0   0]\n",
            " [  1   5 212  72   3   0   3   4   0   0]\n",
            " [  0   1  75 215   2   5   2   0   0   0]\n",
            " [  2   8   0   6 279   1   3   1   0   0]\n",
            " [  0   2   9 127  10 152   0   0   0   0]\n",
            " [  0   5   2  33   3   0 181  76   0   0]\n",
            " [ 39   4   2   5   0   1   0 249   0   0]\n",
            " [187  49  17   6   6   1   2  32   0   0]\n",
            " [ 32 202   0  10  31   1   5  19   0   0]]\n"
          ]
        }
      ]
    }
  ]
}