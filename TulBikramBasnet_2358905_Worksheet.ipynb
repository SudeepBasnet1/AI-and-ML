{
  "nbformat": 4,
  "nbformat_minor": 0,
  "metadata": {
    "colab": {
      "provenance": []
    },
    "kernelspec": {
      "name": "python3",
      "display_name": "Python 3"
    },
    "language_info": {
      "name": "python"
    }
  },
  "cells": [
    {
      "cell_type": "markdown",
      "source": [
        "### Problem - 1: Array Creation\n",
        "\n",
        "\n"
      ],
      "metadata": {
        "id": "KYCrQYnv-_nQ"
      }
    },
    {
      "cell_type": "code",
      "execution_count": 39,
      "metadata": {
        "colab": {
          "base_uri": "https://localhost:8080/"
        },
        "id": "DR53pO_U-Fq5",
        "outputId": "036a4e7b-7c97-4e26-fbf4-12c243a3da82"
      },
      "outputs": [
        {
          "output_type": "stream",
          "name": "stdout",
          "text": [
            "Empty Array 2x2:\n",
            " [[4.51971253e-320 0.00000000e+000]\n",
            " [7.50057372e+247 7.47020162e-114]]\n"
          ]
        }
      ],
      "source": [
        "import numpy as np\n",
        "\n",
        "# 1. Initializing an empty array with size of 2x2\n",
        "empty_array = np.empty((2, 2))\n",
        "print(\"Empty Array 2x2:\\n\", empty_array)\n"
      ]
    },
    {
      "cell_type": "code",
      "source": [
        "# 2. Initializing an all-one array with size 4x2\n",
        "ones_array = np.ones((4, 2))\n",
        "print(\"\\nAll Ones Array 4x2:\\n\", ones_array)\n",
        "\n"
      ],
      "metadata": {
        "colab": {
          "base_uri": "https://localhost:8080/"
        },
        "id": "x5HrFZhP-WzE",
        "outputId": "ad3ce560-7e80-4532-b247-60c0081a3e3f"
      },
      "execution_count": 40,
      "outputs": [
        {
          "output_type": "stream",
          "name": "stdout",
          "text": [
            "\n",
            "All Ones Array 4x2:\n",
            " [[1. 1.]\n",
            " [1. 1.]\n",
            " [1. 1.]\n",
            " [1. 1.]]\n"
          ]
        }
      ]
    },
    {
      "cell_type": "code",
      "source": [
        "# 3. Return a new array of given shape and type, filled with fill value\n",
        "full_array = np.full((3, 3), 7)  # shape (3,3), filled with 7\n",
        "print(\"\\nFull Array (3x3 filled with 7):\\n\", full_array)\n",
        "\n",
        "\n"
      ],
      "metadata": {
        "colab": {
          "base_uri": "https://localhost:8080/"
        },
        "id": "do8eY4Iu-bdT",
        "outputId": "3c099d63-d4c3-4d93-894c-8f0ad2352dc6"
      },
      "execution_count": null,
      "outputs": [
        {
          "output_type": "stream",
          "name": "stdout",
          "text": [
            "\n",
            "Full Array (3x3 filled with 7):\n",
            " [[7 7 7]\n",
            " [7 7 7]\n",
            " [7 7 7]]\n"
          ]
        }
      ]
    },
    {
      "cell_type": "code",
      "source": [
        "# 4. Return a new array of zeros with the same shape and type as a given array\n",
        "array_for_reference = np.array([1, 2, 3, 4])\n",
        "zeros_like_array = np.zeros_like(array_for_reference)\n",
        "print(\"\\nZeros Array with shape of array_for_reference:\\n\", zeros_like_array)\n",
        "\n"
      ],
      "metadata": {
        "colab": {
          "base_uri": "https://localhost:8080/"
        },
        "id": "VqRY8oQG-g5c",
        "outputId": "199e621a-413e-4b8e-801b-581a981c05c2"
      },
      "execution_count": null,
      "outputs": [
        {
          "output_type": "stream",
          "name": "stdout",
          "text": [
            "\n",
            "Zeros Array with shape of array_for_reference:\n",
            " [0 0 0 0]\n"
          ]
        }
      ]
    },
    {
      "cell_type": "code",
      "source": [
        "# 5. Return a new array of ones with the same shape and type as a given array\n",
        "ones_like_array = np.ones_like(array_for_reference)\n",
        "print(\"\\nOnes Array with shape of array_for_reference:\\n\", ones_like_array)\n",
        "\n"
      ],
      "metadata": {
        "colab": {
          "base_uri": "https://localhost:8080/"
        },
        "id": "-qtyQaro-l9F",
        "outputId": "cafc20d7-d36b-48c0-8ced-b6b9380701d5"
      },
      "execution_count": null,
      "outputs": [
        {
          "output_type": "stream",
          "name": "stdout",
          "text": [
            "\n",
            "Ones Array with shape of array_for_reference:\n",
            " [1 1 1 1]\n"
          ]
        }
      ]
    },
    {
      "cell_type": "code",
      "source": [
        "# 6. Convert list to numpy array\n",
        "new_list = [1, 2, 3, 4]\n",
        "numpy_array_from_list = np.array(new_list)\n",
        "print(\"\\nNumpy Array from List:\\n\", numpy_array_from_list)"
      ],
      "metadata": {
        "colab": {
          "base_uri": "https://localhost:8080/"
        },
        "id": "gy4dLCeV-tv7",
        "outputId": "e55b7f82-b7e2-464f-9975-f4698485e3df"
      },
      "execution_count": null,
      "outputs": [
        {
          "output_type": "stream",
          "name": "stdout",
          "text": [
            "\n",
            "Numpy Array from List:\n",
            " [1 2 3 4]\n"
          ]
        }
      ]
    },
    {
      "cell_type": "markdown",
      "source": [
        "### Problem - 2: Array Manipulation: Numerical Ranges and Array indexing"
      ],
      "metadata": {
        "id": "YLqUOlBI_N62"
      }
    },
    {
      "cell_type": "code",
      "source": [
        "# 1. Create an array with values ranging from 10 to 49\n",
        "array_range = np.arange(10, 50)\n",
        "print(\"\\nArray from 10 to 49:\\n\", array_range)"
      ],
      "metadata": {
        "colab": {
          "base_uri": "https://localhost:8080/"
        },
        "id": "BAJPSAde_aGl",
        "outputId": "2b8e8f3f-24d2-4691-d844-f1c1fe0569b6"
      },
      "execution_count": null,
      "outputs": [
        {
          "output_type": "stream",
          "name": "stdout",
          "text": [
            "\n",
            "Array from 10 to 49:\n",
            " [10 11 12 13 14 15 16 17 18 19 20 21 22 23 24 25 26 27 28 29 30 31 32 33\n",
            " 34 35 36 37 38 39 40 41 42 43 44 45 46 47 48 49]\n"
          ]
        }
      ]
    },
    {
      "cell_type": "code",
      "source": [
        "# 2. Create a 3x3 matrix with values ranging from 0 to 8\n",
        "matrix_3x3 = np.arange(9).reshape(3, 3)\n",
        "print(\"\\n3x3 Matrix from 0 to 8:\\n\", matrix_3x3)"
      ],
      "metadata": {
        "colab": {
          "base_uri": "https://localhost:8080/"
        },
        "id": "jt3A_UWg_hki",
        "outputId": "e696f06b-0cb3-4395-8f79-3c7e69f6e95e"
      },
      "execution_count": null,
      "outputs": [
        {
          "output_type": "stream",
          "name": "stdout",
          "text": [
            "\n",
            "3x3 Matrix from 0 to 8:\n",
            " [[0 1 2]\n",
            " [3 4 5]\n",
            " [6 7 8]]\n"
          ]
        }
      ]
    },
    {
      "cell_type": "code",
      "source": [
        "# 3. Create a 3x3 identity matrix\n",
        "identity_matrix = np.eye(3)\n",
        "print(\"\\n3x3 Identity Matrix:\\n\", identity_matrix)"
      ],
      "metadata": {
        "colab": {
          "base_uri": "https://localhost:8080/"
        },
        "id": "9D_dEBb7_jdS",
        "outputId": "b10af8b9-e9d8-423d-dd64-90c0d5a9090d"
      },
      "execution_count": null,
      "outputs": [
        {
          "output_type": "stream",
          "name": "stdout",
          "text": [
            "\n",
            "3x3 Identity Matrix:\n",
            " [[1. 0. 0.]\n",
            " [0. 1. 0.]\n",
            " [0. 0. 1.]]\n"
          ]
        }
      ]
    },
    {
      "cell_type": "code",
      "source": [
        "# 4. Create a random array of size 30 and find the mean\n",
        "random_array = np.random.random(30)\n",
        "mean_of_array = random_array.mean()\n",
        "print(\"\\nMean of Random Array:\\n\", mean_of_array)"
      ],
      "metadata": {
        "colab": {
          "base_uri": "https://localhost:8080/"
        },
        "id": "bEsgQwFX_ltI",
        "outputId": "ecf9a8ab-7bc6-4a0d-db1d-09686f50f53d"
      },
      "execution_count": null,
      "outputs": [
        {
          "output_type": "stream",
          "name": "stdout",
          "text": [
            "\n",
            "Mean of Random Array:\n",
            " 0.4097187903083381\n"
          ]
        }
      ]
    },
    {
      "cell_type": "code",
      "source": [
        "# 5. Create a 10x10 array with random values and find the min and max\n",
        "random_10x10 = np.random.random((10, 10))\n",
        "min_value = random_10x10.min()\n",
        "max_value = random_10x10.max()\n",
        "print(\"\\nMin Value:\", min_value, \"Max Value:\", max_value)"
      ],
      "metadata": {
        "colab": {
          "base_uri": "https://localhost:8080/"
        },
        "id": "d_uQDgbF_ohj",
        "outputId": "9a8a2df1-aba1-4198-c9f3-9fd20fc3e774"
      },
      "execution_count": null,
      "outputs": [
        {
          "output_type": "stream",
          "name": "stdout",
          "text": [
            "\n",
            "Min Value: 0.0057129231795483015 Max Value: 0.9996287601530717\n"
          ]
        }
      ]
    },
    {
      "cell_type": "code",
      "source": [
        "# 6. Create a zero array of size 10 and replace 5th element with 1\n",
        "zero_array = np.zeros(10)\n",
        "zero_array[4] = 1\n",
        "print(\"\\nZero Array with 5th Element as 1:\\n\", zero_array)"
      ],
      "metadata": {
        "colab": {
          "base_uri": "https://localhost:8080/"
        },
        "id": "6JBckUeR_qcE",
        "outputId": "d780a014-b87b-4a1e-9a1c-55722e7f9489"
      },
      "execution_count": null,
      "outputs": [
        {
          "output_type": "stream",
          "name": "stdout",
          "text": [
            "\n",
            "Zero Array with 5th Element as 1:\n",
            " [0. 0. 0. 0. 1. 0. 0. 0. 0. 0.]\n"
          ]
        }
      ]
    },
    {
      "cell_type": "code",
      "source": [
        "# 7. Reverse an array arr = [1,2,0,0,4,0]\n",
        "arr = np.array([1, 2, 0, 0, 4, 0])\n",
        "reversed_arr = arr[::-1]\n",
        "print(\"\\nReversed Array:\\n\", reversed_arr)"
      ],
      "metadata": {
        "colab": {
          "base_uri": "https://localhost:8080/"
        },
        "id": "1P65X5XJ_sEh",
        "outputId": "fb37990d-0efc-4931-972e-b176648446dd"
      },
      "execution_count": null,
      "outputs": [
        {
          "output_type": "stream",
          "name": "stdout",
          "text": [
            "\n",
            "Reversed Array:\n",
            " [0 4 0 0 2 1]\n"
          ]
        }
      ]
    },
    {
      "cell_type": "code",
      "source": [
        "# 8. Create a 2D array with 1 on border and 0 inside\n",
        "border_1_array = np.ones((5, 5))\n",
        "border_1_array[1:-1, 1:-1] = 0\n",
        "print(\"\\n2D Array with 1 on border and 0 inside:\\n\", border_1_array)"
      ],
      "metadata": {
        "colab": {
          "base_uri": "https://localhost:8080/"
        },
        "id": "w--9Ao_8_uUY",
        "outputId": "12148120-3a3f-49e9-ed6a-04f0c10c4e04"
      },
      "execution_count": null,
      "outputs": [
        {
          "output_type": "stream",
          "name": "stdout",
          "text": [
            "\n",
            "2D Array with 1 on border and 0 inside:\n",
            " [[1. 1. 1. 1. 1.]\n",
            " [1. 0. 0. 0. 1.]\n",
            " [1. 0. 0. 0. 1.]\n",
            " [1. 0. 0. 0. 1.]\n",
            " [1. 1. 1. 1. 1.]]\n"
          ]
        }
      ]
    },
    {
      "cell_type": "code",
      "source": [
        "# 9. Create an 8x8 matrix and fill it with a checkerboard pattern\n",
        "checkerboard = np.zeros((8, 8))\n",
        "checkerboard[1::2, ::2] = 1\n",
        "checkerboard[::2, 1::2] = 1\n",
        "print(\"\\nCheckerboard Pattern:\\n\", checkerboard)"
      ],
      "metadata": {
        "colab": {
          "base_uri": "https://localhost:8080/"
        },
        "id": "dmDpXVEe_wZl",
        "outputId": "ed8f3eff-a3d9-48a0-bebc-31a9deaaa60f"
      },
      "execution_count": null,
      "outputs": [
        {
          "output_type": "stream",
          "name": "stdout",
          "text": [
            "\n",
            "Checkerboard Pattern:\n",
            " [[0. 1. 0. 1. 0. 1. 0. 1.]\n",
            " [1. 0. 1. 0. 1. 0. 1. 0.]\n",
            " [0. 1. 0. 1. 0. 1. 0. 1.]\n",
            " [1. 0. 1. 0. 1. 0. 1. 0.]\n",
            " [0. 1. 0. 1. 0. 1. 0. 1.]\n",
            " [1. 0. 1. 0. 1. 0. 1. 0.]\n",
            " [0. 1. 0. 1. 0. 1. 0. 1.]\n",
            " [1. 0. 1. 0. 1. 0. 1. 0.]]\n"
          ]
        }
      ]
    },
    {
      "cell_type": "markdown",
      "source": [
        "###Problem - 3: Array Operations\n"
      ],
      "metadata": {
        "id": "PlqjhTI-_1dV"
      }
    },
    {
      "cell_type": "code",
      "source": [
        "# Given arrays\n",
        "x = np.array([[1, 2], [3, 5]])\n",
        "y = np.array([[5, 6], [7, 8]])\n",
        "v = np.array([9, 10])\n",
        "w = np.array([11, 12])\n",
        "\n",
        "# 1. Add the two arrays\n",
        "addition_result = x + y\n",
        "print(\"\\nAddition of x and y:\\n\", addition_result)"
      ],
      "metadata": {
        "colab": {
          "base_uri": "https://localhost:8080/"
        },
        "id": "Bkpusx47_4s1",
        "outputId": "a2113796-7428-4ff1-ccd4-0e93cf7c7442"
      },
      "execution_count": null,
      "outputs": [
        {
          "output_type": "stream",
          "name": "stdout",
          "text": [
            "\n",
            "Addition of x and y:\n",
            " [[ 6  8]\n",
            " [10 13]]\n"
          ]
        }
      ]
    },
    {
      "cell_type": "code",
      "source": [
        "# 2. Subtract the two arrays\n",
        "subtraction_result = x - y\n",
        "print(\"\\nSubtraction of x and y:\\n\", subtraction_result)"
      ],
      "metadata": {
        "colab": {
          "base_uri": "https://localhost:8080/"
        },
        "id": "AicOk3XNAAcj",
        "outputId": "20d51b3e-e71f-4d78-a2c4-407913879547"
      },
      "execution_count": null,
      "outputs": [
        {
          "output_type": "stream",
          "name": "stdout",
          "text": [
            "\n",
            "Subtraction of x and y:\n",
            " [[-4 -4]\n",
            " [-4 -3]]\n"
          ]
        }
      ]
    },
    {
      "cell_type": "code",
      "source": [
        "# 3. Multiply the array with any integer\n",
        "multiplication_result = x * 2\n",
        "print(\"\\nMultiplication of x by 2:\\n\", multiplication_result)"
      ],
      "metadata": {
        "colab": {
          "base_uri": "https://localhost:8080/"
        },
        "id": "NZn_Z0JAABbG",
        "outputId": "0a447d1c-f84e-493d-f524-7b4f7ea1cd80"
      },
      "execution_count": null,
      "outputs": [
        {
          "output_type": "stream",
          "name": "stdout",
          "text": [
            "\n",
            "Multiplication of x by 2:\n",
            " [[ 2  4]\n",
            " [ 6 10]]\n"
          ]
        }
      ]
    },
    {
      "cell_type": "code",
      "source": [
        "# 4. Find the square of each element\n",
        "squared_result = np.square(x)\n",
        "print(\"\\nSquare of each element in x:\\n\", squared_result)\n"
      ],
      "metadata": {
        "colab": {
          "base_uri": "https://localhost:8080/"
        },
        "id": "49aO3FVkAE5G",
        "outputId": "e41f1987-5e6b-4b64-b754-056c98e2c98b"
      },
      "execution_count": null,
      "outputs": [
        {
          "output_type": "stream",
          "name": "stdout",
          "text": [
            "\n",
            "Square of each element in x:\n",
            " [[ 1  4]\n",
            " [ 9 25]]\n"
          ]
        }
      ]
    },
    {
      "cell_type": "code",
      "source": [
        "# 5. Find the dot product between:\n",
        "dot_v_w = np.dot(v, w)\n",
        "dot_x_v = np.dot(x, v)\n",
        "dot_x_y = np.dot(x, y)\n",
        "print(\"\\nDot Product v and w:\", dot_v_w)\n",
        "print(\"Dot Product x and v:\\n\", dot_x_v)\n",
        "print(\"Dot Product x and y:\\n\", dot_x_y)"
      ],
      "metadata": {
        "colab": {
          "base_uri": "https://localhost:8080/"
        },
        "id": "rWuv9kgKAG8V",
        "outputId": "39113922-6815-4ed3-d8e9-6362eb4a34d9"
      },
      "execution_count": null,
      "outputs": [
        {
          "output_type": "stream",
          "name": "stdout",
          "text": [
            "\n",
            "Dot Product v and w: 219\n",
            "Dot Product x and v:\n",
            " [29 77]\n",
            "Dot Product x and y:\n",
            " [[19 22]\n",
            " [50 58]]\n"
          ]
        }
      ]
    },
    {
      "cell_type": "code",
      "source": [
        "# 6. Concatenate x and y along row and concatenate v and w along column\n",
        "concat_xy_row = np.concatenate((x, y), axis=1)\n",
        "concat_vw_column = np.concatenate((v.reshape(-1, 1), w.reshape(-1, 1)), axis=1)\n",
        "print(\"\\nConcatenate x and y along row:\\n\", concat_xy_row)\n",
        "print(\"\\nConcatenate v and w along column:\\n\", concat_vw_column)"
      ],
      "metadata": {
        "colab": {
          "base_uri": "https://localhost:8080/"
        },
        "id": "2TPbmxwhAIAT",
        "outputId": "d3078e8d-a6ea-4a02-9166-7097636770a0"
      },
      "execution_count": null,
      "outputs": [
        {
          "output_type": "stream",
          "name": "stdout",
          "text": [
            "\n",
            "Concatenate x and y along row:\n",
            " [[1 2 5 6]\n",
            " [3 5 7 8]]\n",
            "\n",
            "Concatenate v and w along column:\n",
            " [[ 9 11]\n",
            " [10 12]]\n"
          ]
        }
      ]
    },
    {
      "cell_type": "code",
      "source": [
        "# 7. Concatenate x and v\n",
        "# This will raise an error because x is 2D and v is 1D with incompatible shapes\n",
        "try:\n",
        "    concat_x_v = np.concatenate((x, v), axis=1)\n",
        "except Exception as e:\n",
        "    print(\"\\nError during concatenating x and v:\", e)"
      ],
      "metadata": {
        "colab": {
          "base_uri": "https://localhost:8080/"
        },
        "id": "q7EqsqdbAMHE",
        "outputId": "1cdc96cc-3439-4908-bf33-1a907b68ce30"
      },
      "execution_count": null,
      "outputs": [
        {
          "output_type": "stream",
          "name": "stdout",
          "text": [
            "\n",
            "Error during concatenating x and v: all the input arrays must have same number of dimensions, but the array at index 0 has 2 dimension(s) and the array at index 1 has 1 dimension(s)\n"
          ]
        }
      ]
    },
    {
      "cell_type": "markdown",
      "source": [
        "### Problem - 4: Matrix Operations"
      ],
      "metadata": {
        "id": "R6F77z5QAiGe"
      }
    },
    {
      "cell_type": "code",
      "source": [
        "# Given matrices\n",
        "A = np.array([[3, 4], [7, 8]])\n",
        "B = np.array([[5, 3], [2, 1]])\n",
        "\n",
        "# 1. Prove A.A^-1 = I\n",
        "A_inv = np.linalg.inv(A)\n",
        "identity_matrix = np.dot(A, A_inv)\n",
        "print(\"\\nA * A^-1 = I:\\n\", identity_matrix)"
      ],
      "metadata": {
        "colab": {
          "base_uri": "https://localhost:8080/"
        },
        "id": "C9s24C63ApUb",
        "outputId": "50847121-607b-4336-fb69-bad6dd9e793f"
      },
      "execution_count": null,
      "outputs": [
        {
          "output_type": "stream",
          "name": "stdout",
          "text": [
            "\n",
            "A * A^-1 = I:\n",
            " [[1.00000000e+00 0.00000000e+00]\n",
            " [1.77635684e-15 1.00000000e+00]]\n"
          ]
        }
      ]
    },
    {
      "cell_type": "code",
      "source": [
        "# 2. Prove AB != BA\n",
        "AB = np.dot(A, B)\n",
        "BA = np.dot(B, A)\n",
        "print(\"\\nAB:\\n\", AB)\n",
        "print(\"\\nBA:\\n\", BA)\n",
        "print(\"\\nAB == BA:\", np.array_equal(AB, BA))"
      ],
      "metadata": {
        "colab": {
          "base_uri": "https://localhost:8080/"
        },
        "id": "jSi6u3XYAygM",
        "outputId": "854d3f36-298f-4c3b-e197-164373c68b3f"
      },
      "execution_count": null,
      "outputs": [
        {
          "output_type": "stream",
          "name": "stdout",
          "text": [
            "\n",
            "AB:\n",
            " [[23 13]\n",
            " [51 29]]\n",
            "\n",
            "BA:\n",
            " [[36 44]\n",
            " [13 16]]\n",
            "\n",
            "AB == BA: False\n"
          ]
        }
      ]
    },
    {
      "cell_type": "code",
      "source": [
        "# 3. Prove (AB)^T = B^T * A^T\n",
        "transpose_AB = np.transpose(np.dot(A, B))\n",
        "transpose_BA = np.dot(np.transpose(B), np.transpose(A))\n",
        "print(\"\\n(AB)^T:\\n\", transpose_AB)\n",
        "print(\"\\nB^T * A^T:\\n\", transpose_BA)\n",
        "print(\"\\n(AB)^T == B^T * A^T:\", np.array_equal(transpose_AB, transpose_BA))"
      ],
      "metadata": {
        "colab": {
          "base_uri": "https://localhost:8080/"
        },
        "id": "wB0_Szc8A0u2",
        "outputId": "9e14704c-23a4-4d0d-da15-795ae0e9282d"
      },
      "execution_count": null,
      "outputs": [
        {
          "output_type": "stream",
          "name": "stdout",
          "text": [
            "\n",
            "(AB)^T:\n",
            " [[23 51]\n",
            " [13 29]]\n",
            "\n",
            "B^T * A^T:\n",
            " [[23 51]\n",
            " [13 29]]\n",
            "\n",
            "(AB)^T == B^T * A^T: True\n"
          ]
        }
      ]
    },
    {
      "cell_type": "code",
      "source": [
        "coefficients = np.array([[2, -3, 1], [1, -1, 2], [3, 1, -1]])\n",
        "constants = np.array([-1, -3, 9])\n",
        "\n",
        "solution = np.linalg.solve(coefficients, constants)\n",
        "print(\"\\nSolution of the system of equations (x, y, z):\\n\", solution)\n"
      ],
      "metadata": {
        "colab": {
          "base_uri": "https://localhost:8080/"
        },
        "id": "DOj5JPdaA4Zb",
        "outputId": "2c7570a4-56c8-4ddf-b571-36b0367e7399"
      },
      "execution_count": null,
      "outputs": [
        {
          "output_type": "stream",
          "name": "stdout",
          "text": [
            "\n",
            "Solution of the system of equations (x, y, z):\n",
            " [ 2.  1. -2.]\n"
          ]
        }
      ]
    },
    {
      "cell_type": "markdown",
      "source": [
        "###Problem 5: Speed Comparison (NumPy vs Python Lists)"
      ],
      "metadata": {
        "id": "RjI_CtAyBLYz"
      }
    },
    {
      "cell_type": "code",
      "source": [
        "import time\n",
        "\n",
        "# 1. add according to elements\n",
        "size = 1000000\n",
        "list_a = list(range(size))\n",
        "list_b = list(range(size))"
      ],
      "metadata": {
        "id": "t3bOM_1mBP2n"
      },
      "execution_count": null,
      "outputs": []
    },
    {
      "cell_type": "code",
      "source": [
        "#python list\n",
        "start = time.time()\n",
        "list_sum = [list_a[i] + list_b[i] for i in range(size)]\n",
        "end = time.time()\n",
        "print(\"\\nTime for element-wise addition using Python lists:\", end - start)"
      ],
      "metadata": {
        "colab": {
          "base_uri": "https://localhost:8080/"
        },
        "id": "SGcNTHUSBlgO",
        "outputId": "cc78277c-7798-42f5-ae2e-32dfb316ef04"
      },
      "execution_count": null,
      "outputs": [
        {
          "output_type": "stream",
          "name": "stdout",
          "text": [
            "\n",
            "Time for element-wise addition using Python lists: 0.046030521392822266\n"
          ]
        }
      ]
    },
    {
      "cell_type": "code",
      "source": [
        "# Numpy Arrays\n",
        "a = np.arange(size)\n",
        "b = np.arange(size)\n",
        "\n",
        "start = time.time()\n",
        "numpy_sum = a + b\n",
        "end = time.time()\n",
        "print(\"Time for element-wise addition using NumPy arrays:\", end - start)"
      ],
      "metadata": {
        "colab": {
          "base_uri": "https://localhost:8080/"
        },
        "id": "_GDU2Lj1BoZD",
        "outputId": "2b3323b7-366f-4c18-9449-c126d505e1d4"
      },
      "execution_count": 41,
      "outputs": [
        {
          "output_type": "stream",
          "name": "stdout",
          "text": [
            "Time for element-wise addition using NumPy arrays: 0.002111196517944336\n"
          ]
        }
      ]
    },
    {
      "cell_type": "code",
      "source": [
        "# 2) multiplication according to elements\n",
        "start = time.time()\n",
        "list_multiply = [list_a[i] * list_b[i] for i in range(size)]\n",
        "end = time.time()\n",
        "print(\"\\nTime for element-wise multiplication using Python lists:\", end - start)"
      ],
      "metadata": {
        "colab": {
          "base_uri": "https://localhost:8080/"
        },
        "id": "rBxxs4KWBsAx",
        "outputId": "f04dfaa2-9259-43cc-c4d2-5ae05d80492e"
      },
      "execution_count": null,
      "outputs": [
        {
          "output_type": "stream",
          "name": "stdout",
          "text": [
            "\n",
            "Time for element-wise multiplication using Python lists: 0.05316424369812012\n"
          ]
        }
      ]
    },
    {
      "cell_type": "code",
      "source": [
        "# NumPy Arrays\n",
        "start = time.time()\n",
        "numpy_multiply = a * b\n",
        "end = time.time()\n",
        "print(\"Time for element-wise multiplication using NumPy arrays:\", end - start)\n"
      ],
      "metadata": {
        "colab": {
          "base_uri": "https://localhost:8080/"
        },
        "id": "0hAdGYaXBxLu",
        "outputId": "cb9688d8-3f16-4734-af6b-6e8364eab77d"
      },
      "execution_count": null,
      "outputs": [
        {
          "output_type": "stream",
          "name": "stdout",
          "text": [
            "Time for element-wise multiplication using NumPy arrays: 0.0012099742889404297\n"
          ]
        }
      ]
    },
    {
      "cell_type": "code",
      "source": [
        "# 3. Dot Product\n",
        "start = time.time()\n",
        "dot_product_python = sum([list_a[i] * list_b[i] for i in range(size)])\n",
        "end = time.time()\n",
        "print(\"\\nTime for dot product using Python lists:\", end - start)"
      ],
      "metadata": {
        "colab": {
          "base_uri": "https://localhost:8080/"
        },
        "id": "ArY7F72EB0iw",
        "outputId": "450caed2-cc91-46ee-c083-5b41aefa5408"
      },
      "execution_count": null,
      "outputs": [
        {
          "output_type": "stream",
          "name": "stdout",
          "text": [
            "\n",
            "Time for dot product using Python lists: 0.0709376335144043\n"
          ]
        }
      ]
    },
    {
      "cell_type": "code",
      "source": [
        "# NumPy Arrays\n",
        "start = time.time()\n",
        "dot_product_numpy = np.dot(a, b)\n",
        "end = time.time()\n",
        "print(\"Time for dot product using NumPy arrays:\", end - start)"
      ],
      "metadata": {
        "colab": {
          "base_uri": "https://localhost:8080/"
        },
        "id": "43NQMYxZB7jB",
        "outputId": "7d0fe572-18be-4628-8843-33b67912cd97"
      },
      "execution_count": null,
      "outputs": [
        {
          "output_type": "stream",
          "name": "stdout",
          "text": [
            "Time for dot product using NumPy arrays: 0.002221345901489258\n"
          ]
        }
      ]
    },
    {
      "cell_type": "code",
      "source": [
        "# 4. Matrix Mul\n",
        "matrix_size = 1000\n",
        "matrix_a = np.random.random((matrix_size, matrix_size))\n",
        "matrix_b = np.random.random((matrix_size, matrix_size))\n"
      ],
      "metadata": {
        "id": "-fWRsJMiB9dI"
      },
      "execution_count": null,
      "outputs": []
    },
    {
      "cell_type": "code",
      "source": [
        "# Using Python Lists\n",
        "start = time.time()\n",
        "matrix_multiply_python = [[sum(matrix_a[i][k] * matrix_b[k][j] for k in range(matrix_size)) for j in range(matrix_size)] for i in range(matrix_size)]\n",
        "end = time.time()\n",
        "print(\"\\nTime for matrix multiplication using Python lists:\", end - start)\n"
      ],
      "metadata": {
        "id": "QT8RRbNOC35I",
        "colab": {
          "base_uri": "https://localhost:8080/"
        },
        "outputId": "19773ab1-f9f8-4a62-a789-5dc4c3c355a8"
      },
      "execution_count": 37,
      "outputs": [
        {
          "output_type": "stream",
          "name": "stdout",
          "text": [
            "\n",
            "Time for matrix multiplication using Python lists: 469.3898868560791\n"
          ]
        }
      ]
    },
    {
      "cell_type": "code",
      "source": [
        "# Using NumPy Arrays\n",
        "start = time.time()\n",
        "matrix_multiply_numpy = np.dot(matrix_a, matrix_b)\n",
        "end = time.time()\n",
        "print(\"Time for matrix multiplication using NumPy arrays:\", end - start)"
      ],
      "metadata": {
        "id": "iTPc9K_KGHET",
        "colab": {
          "base_uri": "https://localhost:8080/"
        },
        "outputId": "933c09a9-a2be-45b9-f190-ccb9711f23db"
      },
      "execution_count": 38,
      "outputs": [
        {
          "output_type": "stream",
          "name": "stdout",
          "text": [
            "Time for matrix multiplication using NumPy arrays: 0.058030128479003906\n"
          ]
        }
      ]
    }
  ]
}